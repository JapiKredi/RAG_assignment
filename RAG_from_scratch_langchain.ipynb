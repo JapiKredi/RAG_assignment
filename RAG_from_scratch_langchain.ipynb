{
  "nbformat": 4,
  "nbformat_minor": 0,
  "metadata": {
    "colab": {
      "provenance": [],
      "authorship_tag": "ABX9TyOrvakrqynVjk2+5LxiaSWd",
      "include_colab_link": true
    },
    "kernelspec": {
      "name": "python3",
      "display_name": "Python 3"
    },
    "language_info": {
      "name": "python"
    }
  },
  "cells": [
    {
      "cell_type": "markdown",
      "metadata": {
        "id": "view-in-github",
        "colab_type": "text"
      },
      "source": [
        "<a href=\"https://colab.research.google.com/github/JapiKredi/RAG_assignment/blob/main/RAG_from_scratch_langchain.ipynb\" target=\"_parent\"><img src=\"https://colab.research.google.com/assets/colab-badge.svg\" alt=\"Open In Colab\"/></a>"
      ]
    },
    {
      "cell_type": "markdown",
      "source": [
        "# Building a RAG application from scratch with Langchain"
      ],
      "metadata": {
        "id": "ssWthfiiGKcx"
      }
    },
    {
      "cell_type": "markdown",
      "source": [
        "1: Ingestion     \n",
        "\n",
        "2: Retrieval\n",
        "\n",
        "3: Generation"
      ],
      "metadata": {
        "id": "OJnYlSvtGO-V"
      }
    },
    {
      "cell_type": "code",
      "execution_count": null,
      "metadata": {
        "id": "aqbyYxY8FtlM"
      },
      "outputs": [],
      "source": []
    },
    {
      "cell_type": "code",
      "source": [],
      "metadata": {
        "id": "07vF2zujGN5B"
      },
      "execution_count": null,
      "outputs": []
    }
  ]
}